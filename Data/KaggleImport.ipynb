{
 "cells": [
  {
   "cell_type": "markdown",
   "id": "bf377679-596d-4c5e-8f90-dc1290f071c9",
   "metadata": {},
   "source": [
    "## Kaggle import"
   ]
  },
  {
   "cell_type": "code",
   "execution_count": 1,
   "id": "9c3a5770-564b-416c-9af2-630e0f5a876a",
   "metadata": {},
   "outputs": [
    {
     "name": "stdout",
     "output_type": "stream",
     "text": [
      "UnicodeDecodeError reading file 'startup_valuations.csv': 'utf-8' codec can't decode byte 0xc5 in position 6847: invalid continuation byte\n",
      "EmptyDataError reading file 'empty.csv': No columns to parse from file\n",
      "EmptyDataError reading file 'NM Weather Data in India from 1901 to 2017 - Weather Data in India from 1901 to 2017.csv': No columns to parse from file\n",
      "UnicodeDecodeError reading file 'Software Questions.csv': 'utf-8' codec can't decode byte 0x97 in position 22769: invalid start byte\n",
      "Error reading file 'Digivolution Requirements.csv': Error tokenizing data. C error: Expected 1 fields in line 165, saw 2\n",
      "\n",
      "UnicodeDecodeError reading file 'oscars-demographics.csv': 'utf-8' codec can't decode byte 0x92 in position 10687: invalid start byte\n",
      "Error reading file '.ipynb_checkpoints': [Errno 21] Is a directory: './kaggledatasets/.ipynb_checkpoints'\n",
      "UnicodeDecodeError reading file 'spotify-2023.csv': 'utf-8' codec can't decode bytes in position 7250-7251: invalid continuation byte\n",
      "Error reading file 'Skills.csv': Error tokenizing data. C error: Expected 1 fields in line 3, saw 2\n",
      "\n",
      "UnicodeDecodeError reading file 'Analysiss.csv': 'utf-8' codec can't decode byte 0xe1 in position 10373: invalid continuation byte\n",
      "EmptyDataError reading file 'Topsis Dataset.csv': No columns to parse from file\n",
      "UnicodeDecodeError reading file 'Fossil-Fuel CO2 Emissions.csv': 'utf-8' codec can't decode byte 0xde in position 16: invalid continuation byte\n",
      "UnicodeDecodeError reading file 'Household_Appliances_Consumption.csv': 'utf-8' codec can't decode byte 0xe9 in position 357: invalid continuation byte\n",
      "UnicodeDecodeError reading file 'SocialMediaTop100.csv': 'utf-8' codec can't decode byte 0xa0 in position 47: invalid start byte\n",
      "UnicodeDecodeError reading file 'countries.csv': 'utf-8' codec can't decode byte 0xc5 in position 536: invalid continuation byte\n",
      "Error reading file 'chord-fingers.csv': Error tokenizing data. C error: Expected 10 fields in line 7, saw 11\n",
      "\n",
      "EmptyDataError reading file 'Food Environment Atlas.csv': No columns to parse from file\n",
      "UnicodeDecodeError reading file 'startup_founder_chars.csv': 'utf-8' codec can't decode byte 0xc5 in position 20215: invalid continuation byte\n",
      "amount of dataframes imported:\n",
      "491\n"
     ]
    }
   ],
   "source": [
    "import os\n",
    "import pandas as pd\n",
    "import numpy as np\n",
    "import matplotlib.pyplot as plt\n",
    "np.random.seed(42)\n",
    "\n",
    "os.getcwd()\n",
    "\n",
    "dataset_directory = './kaggledatasets'\n",
    "dataset_dfs = {}\n",
    "\n",
    "# import files in the directory\n",
    "for file_name in os.listdir(dataset_directory):\n",
    "    try:\n",
    "        dataset_name = os.path.splitext(file_name)[0]\n",
    "        dataset_dfs[dataset_name] = pd.read_csv(os.path.join(dataset_directory, file_name))\n",
    "    except pd.errors.ParserError as e:\n",
    "        print(f\"Error reading file '{file_name}': {e}\")\n",
    "        continue\n",
    "    except UnicodeDecodeError as e:\n",
    "        print(f\"UnicodeDecodeError reading file '{file_name}': {e}\")\n",
    "        continue\n",
    "    except pd.errors.EmptyDataError as e:\n",
    "        print(f\"EmptyDataError reading file '{file_name}': {e}\")\n",
    "        continue\n",
    "    except IsADirectoryError as e:\n",
    "        print(f\"Error reading file '{file_name}': {e}\")\n",
    "        continue\n",
    "\n",
    "print(\"amount of dataframes imported:\")\n",
    "print(len(dataset_dfs))\n",
    "\n",
    "ARRAY_SIZE = 2000\n",
    "\n",
    "#static array size\n",
    "\"\"\"\n",
    "for key, df in dataset_dfs.items():\n",
    "    for column in df.columns:\n",
    "        if not df[column].apply(lambda x: isinstance(x, (int, float))).all() or len(df[column].values) < ARRAY_SIZE:\n",
    "            df.drop(column, axis=1, inplace=True)\n",
    "            \n",
    "    dataset_dfs[key] = df.dropna().head(ARRAY_SIZE)\n",
    "\"\"\"\n",
    "\n",
    "#up to specific array size\n",
    "for key, df in dataset_dfs.items():\n",
    "    for column in df.columns:\n",
    "        if not df[column].apply(lambda x: isinstance(x, (int, float))).all():\n",
    "            df.drop(column, axis=1, inplace=True)\n",
    "            \n",
    "    dataset_dfs[key] = df.dropna().head(ARRAY_SIZE)\n",
    "    \n",
    "import pickle\n",
    "\n",
    "# Save the dictionary to a file\n",
    "with open('dataset_dfs2000.pkl', 'wb') as f:\n",
    "    pickle.dump(dataset_dfs, f)"
   ]
  },
  {
   "cell_type": "code",
   "execution_count": null,
   "id": "908f8a14-77cc-473a-bea4-931e64a9c211",
   "metadata": {},
   "outputs": [],
   "source": []
  }
 ],
 "metadata": {
  "kernelspec": {
   "display_name": "Python 3 (ipykernel)",
   "language": "python",
   "name": "python3"
  },
  "language_info": {
   "codemirror_mode": {
    "name": "ipython",
    "version": 3
   },
   "file_extension": ".py",
   "mimetype": "text/x-python",
   "name": "python",
   "nbconvert_exporter": "python",
   "pygments_lexer": "ipython3",
   "version": "3.10.10"
  }
 },
 "nbformat": 4,
 "nbformat_minor": 5
}
