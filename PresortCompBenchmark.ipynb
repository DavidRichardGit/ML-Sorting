{
 "cells": [
  {
   "cell_type": "markdown",
   "id": "31cd61a2-17f3-412e-a74a-2b35fb2c1e57",
   "metadata": {},
   "source": [
    "## PRESORTEDNESS"
   ]
  },
  {
   "cell_type": "markdown",
   "id": "d2221fa5-9682-440d-831d-420fae7fb82a",
   "metadata": {},
   "source": [
    "### Number of Runs\n",
    "The number of runs, is the number of increasing sequences in an array minus one."
   ]
  },
  {
   "cell_type": "code",
   "execution_count": 1,
   "id": "6a82728f-3b24-4ae8-b143-ba12845c98b4",
   "metadata": {},
   "outputs": [
    {
     "name": "stdout",
     "output_type": "stream",
     "text": [
      "0\n"
     ]
    }
   ],
   "source": [
    "def runs(arr):\n",
    "    count = 0\n",
    "\n",
    "    for key in range(1,len(arr)):\n",
    "        if arr[key] < arr[key-1]:\n",
    "            count += 1\n",
    "\n",
    "    return count\n",
    "\n",
    "arr = [3, 4, 4, 7]\n",
    "print(runs(arr))"
   ]
  },
  {
   "cell_type": "markdown",
   "id": "75a80848-99c6-4515-ad3c-d33c07bc5873",
   "metadata": {},
   "source": [
    "### Number of Deletions\n",
    "minimum number of elements that need to be removed from array to obtain a sorted sequence."
   ]
  },
  {
   "cell_type": "code",
   "execution_count": 2,
   "id": "adc96eae-1ce0-4136-a336-57f492dba90c",
   "metadata": {},
   "outputs": [
    {
     "name": "stdout",
     "output_type": "stream",
     "text": [
      "0\n"
     ]
    }
   ],
   "source": [
    "def deletions(arr):\n",
    "    def ceil_index(sub, val):\n",
    "        l, r = 0, len(sub)-1\n",
    "        while l <= r:\n",
    "            mid = (l + r) // 2\n",
    "            if sub[mid] >= val:\n",
    "                r = mid - 1\n",
    "            else:\n",
    "                l = mid + 1\n",
    "        return l\n",
    " \n",
    "    sub = [arr[0]]\n",
    "    for i in range(1, len(arr)):\n",
    "        if arr[i] >= sub[-1]:\n",
    "            sub.append(arr[i])\n",
    "        else:\n",
    "            sub[ceil_index(sub, arr[i])] = arr[i]\n",
    " \n",
    "    return len(arr) - len(sub)\n",
    "\n",
    "arr = [3, 4, 5, 7]\n",
    "print(deletions(arr))"
   ]
  },
  {
   "cell_type": "markdown",
   "id": "3145b04b-62a7-44fd-adfd-87b8933055f5",
   "metadata": {},
   "source": [
    "## Training Set creation (sorting)"
   ]
  },
  {
   "cell_type": "code",
   "execution_count": 3,
   "id": "e4332069-5f36-4f5c-89b6-dd5f3f30b82e",
   "metadata": {},
   "outputs": [
    {
     "name": "stdout",
     "output_type": "stream",
     "text": [
      "0.05590206501074135\n"
     ]
    },
    {
     "data": {
      "text/plain": [
       "\"df_results = pd.DataFrame(results)\\nprint(df_results)\\ndf_results.to_csv('PresortComp.csv', index=False)\""
      ]
     },
     "execution_count": 3,
     "metadata": {},
     "output_type": "execute_result"
    }
   ],
   "source": [
    "import pickle\n",
    "import os\n",
    "import pandas as pd\n",
    "import numpy as np\n",
    "import random\n",
    "import time\n",
    "\n",
    "random.seed(42)\n",
    "np.random.seed(42)\n",
    "\n",
    "# Load dataset\n",
    "with open('dataset_dfs10000.pkl', 'rb') as f:\n",
    "    dataset_dfs = pickle.load(f)\n",
    "\n",
    "results = []\n",
    "sampled_data = {}\n",
    "\n",
    "# Function to extract samples\n",
    "def samplingDistStatic(arr):\n",
    "    first_20 = arr[:200:10]\n",
    "\n",
    "    middle_start = len(arr) // 2  \n",
    "    middle_10 = arr[middle_start:middle_start + 100:10]\n",
    "\n",
    "    last_10 = arr[-100::10]\n",
    "\n",
    "    return np.concatenate([first_20, middle_10, last_10])\n",
    "\n",
    "for key, df in dataset_dfs.items():\n",
    "    for column in df.columns:\n",
    "        arr = df[column].values\n",
    "        if len(arr) < 400:\n",
    "            continue\n",
    "\n",
    "        sampled_data[(key, column)] = samplingDistStatic(arr)\n",
    "\n",
    "start_time = time.perf_counter()\n",
    "\n",
    "#for (key, column), sampled_arr in sampled_data.items():\n",
    "for (key, column), sampled_arr in sampled_data.items():\n",
    "    \n",
    "    deletions_val = deletions(sampled_arr)\n",
    "    runs_val = runs(sampled_arr)\n",
    "\n",
    "    \"\"\"results.append({\n",
    "        'deletions_val': deletions_val,\n",
    "        'runs_val': runs_val,\n",
    "    })\"\"\"\n",
    "\n",
    "end_time = time.perf_counter()\n",
    "\n",
    "print(end_time - start_time)\n",
    "\n",
    "\"\"\"df_results = pd.DataFrame(results)\n",
    "print(df_results)\n",
    "df_results.to_csv('PresortComp.csv', index=False)\"\"\""
   ]
  }
 ],
 "metadata": {
  "kernelspec": {
   "display_name": "Python 3 (ipykernel)",
   "language": "python",
   "name": "python3"
  },
  "language_info": {
   "codemirror_mode": {
    "name": "ipython",
    "version": 3
   },
   "file_extension": ".py",
   "mimetype": "text/x-python",
   "name": "python",
   "nbconvert_exporter": "python",
   "pygments_lexer": "ipython3",
   "version": "3.10.10"
  }
 },
 "nbformat": 4,
 "nbformat_minor": 5
}
